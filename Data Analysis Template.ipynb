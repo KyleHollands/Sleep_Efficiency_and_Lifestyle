{
 "cells": [
  {
   "cell_type": "markdown",
   "metadata": {},
   "source": [
    "## Import Packages and Libraries"
   ]
  },
  {
   "cell_type": "code",
   "execution_count": 1,
   "metadata": {},
   "outputs": [],
   "source": [
    "import pandas as pd\n",
    "import numpy as np\n",
    "import seaborn as sns\n",
    "import datetime as dt\n",
    "from matplotlib import pyplot as plt\n",
    "from statsmodels.formula.api import ols\n",
    "import statsmodels.api as sm\n",
    "import scipy.stats as stats\n",
    "from scipy.stats import pearsonr\n",
    "from scipy.stats import ttest_rel\n",
    "from sklearn.model_selection import train_test_split"
   ]
  },
  {
   "cell_type": "markdown",
   "metadata": {},
   "source": [
    "## (P)ACE - Plan Phase\n",
    "### Part 1 - Data\n",
    "#### How were the observations in the dataset collected?"
   ]
  },
  {
   "cell_type": "markdown",
   "metadata": {},
   "source": [
    "The source of the data is unknown and therefore confirming how the data was collected is impossible. For the sake of this analysis, we'll assume the data was collected in a manner that conforms to independence condition requirements"
   ]
  },
  {
   "cell_type": "markdown",
   "metadata": {},
   "source": [
    "### Part 2 - Research Question\n",
    "#### Project Scope"
   ]
  },
  {
   "cell_type": "markdown",
   "metadata": {},
   "source": [
    "To analyze multiple variables to see which correlate most with Sleep Efficiency."
   ]
  },
  {
   "cell_type": "markdown",
   "metadata": {},
   "source": [
    "## P(A)CE - Analyze Phase\n",
    "### Part 3 - EDA (Exploratory Data Analysis)\n",
    "#### Investigate the Dataset"
   ]
  },
  {
   "cell_type": "code",
   "execution_count": 2,
   "metadata": {},
   "outputs": [],
   "source": [
    "# Import the dataset\n",
    "df = pd.read_csv('Sleep_Efficiency.csv')"
   ]
  },
  {
   "cell_type": "markdown",
   "metadata": {},
   "source": [
    "##### Descriptive Statistics"
   ]
  },
  {
   "cell_type": "code",
   "execution_count": 3,
   "metadata": {},
   "outputs": [
    {
     "data": {
      "text/html": [
       "<div>\n",
       "<style scoped>\n",
       "    .dataframe tbody tr th:only-of-type {\n",
       "        vertical-align: middle;\n",
       "    }\n",
       "\n",
       "    .dataframe tbody tr th {\n",
       "        vertical-align: top;\n",
       "    }\n",
       "\n",
       "    .dataframe thead th {\n",
       "        text-align: right;\n",
       "    }\n",
       "</style>\n",
       "<table border=\"1\" class=\"dataframe\">\n",
       "  <thead>\n",
       "    <tr style=\"text-align: right;\">\n",
       "      <th></th>\n",
       "      <th>ID</th>\n",
       "      <th>Age</th>\n",
       "      <th>Sleep duration</th>\n",
       "      <th>Sleep efficiency</th>\n",
       "      <th>REM sleep percentage</th>\n",
       "      <th>Deep sleep percentage</th>\n",
       "      <th>Light sleep percentage</th>\n",
       "      <th>Awakenings</th>\n",
       "      <th>Caffeine consumption</th>\n",
       "      <th>Alcohol consumption</th>\n",
       "      <th>Exercise frequency</th>\n",
       "    </tr>\n",
       "  </thead>\n",
       "  <tbody>\n",
       "    <tr>\n",
       "      <th>count</th>\n",
       "      <td>452.000000</td>\n",
       "      <td>452.000000</td>\n",
       "      <td>452.000000</td>\n",
       "      <td>452.000000</td>\n",
       "      <td>452.000000</td>\n",
       "      <td>452.000000</td>\n",
       "      <td>452.000000</td>\n",
       "      <td>432.000000</td>\n",
       "      <td>427.000000</td>\n",
       "      <td>438.000000</td>\n",
       "      <td>446.000000</td>\n",
       "    </tr>\n",
       "    <tr>\n",
       "      <th>mean</th>\n",
       "      <td>226.500000</td>\n",
       "      <td>40.285398</td>\n",
       "      <td>7.465708</td>\n",
       "      <td>0.788916</td>\n",
       "      <td>22.615044</td>\n",
       "      <td>52.823009</td>\n",
       "      <td>24.561947</td>\n",
       "      <td>1.641204</td>\n",
       "      <td>23.653396</td>\n",
       "      <td>1.173516</td>\n",
       "      <td>1.791480</td>\n",
       "    </tr>\n",
       "    <tr>\n",
       "      <th>std</th>\n",
       "      <td>130.625419</td>\n",
       "      <td>13.172250</td>\n",
       "      <td>0.866625</td>\n",
       "      <td>0.135237</td>\n",
       "      <td>3.525963</td>\n",
       "      <td>15.654235</td>\n",
       "      <td>15.313665</td>\n",
       "      <td>1.356762</td>\n",
       "      <td>30.202785</td>\n",
       "      <td>1.621377</td>\n",
       "      <td>1.428134</td>\n",
       "    </tr>\n",
       "    <tr>\n",
       "      <th>min</th>\n",
       "      <td>1.000000</td>\n",
       "      <td>9.000000</td>\n",
       "      <td>5.000000</td>\n",
       "      <td>0.500000</td>\n",
       "      <td>15.000000</td>\n",
       "      <td>18.000000</td>\n",
       "      <td>7.000000</td>\n",
       "      <td>0.000000</td>\n",
       "      <td>0.000000</td>\n",
       "      <td>0.000000</td>\n",
       "      <td>0.000000</td>\n",
       "    </tr>\n",
       "    <tr>\n",
       "      <th>25%</th>\n",
       "      <td>113.750000</td>\n",
       "      <td>29.000000</td>\n",
       "      <td>7.000000</td>\n",
       "      <td>0.697500</td>\n",
       "      <td>20.000000</td>\n",
       "      <td>48.250000</td>\n",
       "      <td>15.000000</td>\n",
       "      <td>1.000000</td>\n",
       "      <td>0.000000</td>\n",
       "      <td>0.000000</td>\n",
       "      <td>0.000000</td>\n",
       "    </tr>\n",
       "    <tr>\n",
       "      <th>50%</th>\n",
       "      <td>226.500000</td>\n",
       "      <td>40.000000</td>\n",
       "      <td>7.500000</td>\n",
       "      <td>0.820000</td>\n",
       "      <td>22.000000</td>\n",
       "      <td>58.000000</td>\n",
       "      <td>18.000000</td>\n",
       "      <td>1.000000</td>\n",
       "      <td>25.000000</td>\n",
       "      <td>0.000000</td>\n",
       "      <td>2.000000</td>\n",
       "    </tr>\n",
       "    <tr>\n",
       "      <th>75%</th>\n",
       "      <td>339.250000</td>\n",
       "      <td>52.000000</td>\n",
       "      <td>8.000000</td>\n",
       "      <td>0.900000</td>\n",
       "      <td>25.000000</td>\n",
       "      <td>63.000000</td>\n",
       "      <td>32.500000</td>\n",
       "      <td>3.000000</td>\n",
       "      <td>50.000000</td>\n",
       "      <td>2.000000</td>\n",
       "      <td>3.000000</td>\n",
       "    </tr>\n",
       "    <tr>\n",
       "      <th>max</th>\n",
       "      <td>452.000000</td>\n",
       "      <td>69.000000</td>\n",
       "      <td>10.000000</td>\n",
       "      <td>0.990000</td>\n",
       "      <td>30.000000</td>\n",
       "      <td>75.000000</td>\n",
       "      <td>63.000000</td>\n",
       "      <td>4.000000</td>\n",
       "      <td>200.000000</td>\n",
       "      <td>5.000000</td>\n",
       "      <td>5.000000</td>\n",
       "    </tr>\n",
       "  </tbody>\n",
       "</table>\n",
       "</div>"
      ],
      "text/plain": [
       "               ID         Age  Sleep duration  Sleep efficiency  \\\n",
       "count  452.000000  452.000000      452.000000        452.000000   \n",
       "mean   226.500000   40.285398        7.465708          0.788916   \n",
       "std    130.625419   13.172250        0.866625          0.135237   \n",
       "min      1.000000    9.000000        5.000000          0.500000   \n",
       "25%    113.750000   29.000000        7.000000          0.697500   \n",
       "50%    226.500000   40.000000        7.500000          0.820000   \n",
       "75%    339.250000   52.000000        8.000000          0.900000   \n",
       "max    452.000000   69.000000       10.000000          0.990000   \n",
       "\n",
       "       REM sleep percentage  Deep sleep percentage  Light sleep percentage  \\\n",
       "count            452.000000             452.000000              452.000000   \n",
       "mean              22.615044              52.823009               24.561947   \n",
       "std                3.525963              15.654235               15.313665   \n",
       "min               15.000000              18.000000                7.000000   \n",
       "25%               20.000000              48.250000               15.000000   \n",
       "50%               22.000000              58.000000               18.000000   \n",
       "75%               25.000000              63.000000               32.500000   \n",
       "max               30.000000              75.000000               63.000000   \n",
       "\n",
       "       Awakenings  Caffeine consumption  Alcohol consumption  \\\n",
       "count  432.000000            427.000000           438.000000   \n",
       "mean     1.641204             23.653396             1.173516   \n",
       "std      1.356762             30.202785             1.621377   \n",
       "min      0.000000              0.000000             0.000000   \n",
       "25%      1.000000              0.000000             0.000000   \n",
       "50%      1.000000             25.000000             0.000000   \n",
       "75%      3.000000             50.000000             2.000000   \n",
       "max      4.000000            200.000000             5.000000   \n",
       "\n",
       "       Exercise frequency  \n",
       "count          446.000000  \n",
       "mean             1.791480  \n",
       "std              1.428134  \n",
       "min              0.000000  \n",
       "25%              0.000000  \n",
       "50%              2.000000  \n",
       "75%              3.000000  \n",
       "max              5.000000  "
      ]
     },
     "execution_count": 3,
     "metadata": {},
     "output_type": "execute_result"
    }
   ],
   "source": [
    "# Summary Statistics\n",
    "df.describe()"
   ]
  },
  {
   "cell_type": "code",
   "execution_count": 4,
   "metadata": {},
   "outputs": [
    {
     "data": {
      "text/plain": [
       "ID                          int64\n",
       "Age                         int64\n",
       "Gender                     object\n",
       "Bedtime                    object\n",
       "Wakeup time                object\n",
       "Sleep duration            float64\n",
       "Sleep efficiency          float64\n",
       "REM sleep percentage        int64\n",
       "Deep sleep percentage       int64\n",
       "Light sleep percentage      int64\n",
       "Awakenings                float64\n",
       "Caffeine consumption      float64\n",
       "Alcohol consumption       float64\n",
       "Smoking status             object\n",
       "Exercise frequency        float64\n",
       "dtype: object"
      ]
     },
     "execution_count": 4,
     "metadata": {},
     "output_type": "execute_result"
    }
   ],
   "source": [
    "# Check column data types\n",
    "df.dtypes"
   ]
  },
  {
   "cell_type": "code",
   "execution_count": 5,
   "metadata": {},
   "outputs": [
    {
     "data": {
      "text/plain": [
       "(452, 15)"
      ]
     },
     "execution_count": 5,
     "metadata": {},
     "output_type": "execute_result"
    }
   ],
   "source": [
    "# Check for duplicates\n",
    "df.shape\n",
    "df.drop_duplicates().shape"
   ]
  },
  {
   "cell_type": "code",
   "execution_count": 6,
   "metadata": {},
   "outputs": [
    {
     "name": "stdout",
     "output_type": "stream",
     "text": [
      "ID                         0\n",
      "Age                        0\n",
      "Gender                     0\n",
      "Bedtime                    0\n",
      "Wakeup time                0\n",
      "Sleep duration             0\n",
      "Sleep efficiency           0\n",
      "REM sleep percentage       0\n",
      "Deep sleep percentage      0\n",
      "Light sleep percentage     0\n",
      "Awakenings                20\n",
      "Caffeine consumption      25\n",
      "Alcohol consumption       14\n",
      "Smoking status             0\n",
      "Exercise frequency         6\n",
      "dtype: int64\n"
     ]
    }
   ],
   "source": [
    "# Check for missing values\n",
    "df_missing_values = df.isnull().sum()\n",
    "print(df_missing_values)"
   ]
  },
  {
   "cell_type": "code",
   "execution_count": 7,
   "metadata": {},
   "outputs": [
    {
     "data": {
      "text/plain": [
       "ID                        0\n",
       "Age                       0\n",
       "Gender                    0\n",
       "Bedtime                   0\n",
       "Wakeup time               0\n",
       "Sleep duration            0\n",
       "Sleep efficiency          0\n",
       "REM sleep percentage      0\n",
       "Deep sleep percentage     0\n",
       "Light sleep percentage    0\n",
       "Awakenings                0\n",
       "Caffeine consumption      0\n",
       "Alcohol consumption       0\n",
       "Smoking status            0\n",
       "Exercise frequency        0\n",
       "dtype: int64"
      ]
     },
     "execution_count": 7,
     "metadata": {},
     "output_type": "execute_result"
    }
   ],
   "source": [
    "# Remove, impute or acquire/enter missing data\n",
    "df_filtered = df.dropna()\n",
    "df_filtered.shape\n",
    "df_filtered.isnull().sum()"
   ]
  },
  {
   "cell_type": "markdown",
   "metadata": {},
   "source": [
    "##### Pairplot to visualize relationships between pairs of variables"
   ]
  },
  {
   "cell_type": "code",
   "execution_count": 8,
   "metadata": {},
   "outputs": [],
   "source": [
    "#sns.pairplot(df)"
   ]
  },
  {
   "cell_type": "markdown",
   "metadata": {},
   "source": [
    "#### Data Manipulation and Cleaning"
   ]
  },
  {
   "cell_type": "code",
   "execution_count": 9,
   "metadata": {},
   "outputs": [
    {
     "data": {
      "text/html": [
       "<div>\n",
       "<style scoped>\n",
       "    .dataframe tbody tr th:only-of-type {\n",
       "        vertical-align: middle;\n",
       "    }\n",
       "\n",
       "    .dataframe tbody tr th {\n",
       "        vertical-align: top;\n",
       "    }\n",
       "\n",
       "    .dataframe thead th {\n",
       "        text-align: right;\n",
       "    }\n",
       "</style>\n",
       "<table border=\"1\" class=\"dataframe\">\n",
       "  <thead>\n",
       "    <tr style=\"text-align: right;\">\n",
       "      <th></th>\n",
       "      <th>ID</th>\n",
       "      <th>Age</th>\n",
       "      <th>Gender</th>\n",
       "      <th>Bedtime</th>\n",
       "      <th>Wakeup_time</th>\n",
       "      <th>Sleep_duration</th>\n",
       "      <th>Sleep_efficiency</th>\n",
       "      <th>REM_sleep_percentage</th>\n",
       "      <th>Deep_sleep_percentage</th>\n",
       "      <th>Light_sleep_percentage</th>\n",
       "      <th>Awakenings</th>\n",
       "      <th>Caffeine_consumption</th>\n",
       "      <th>Alcohol_consumption</th>\n",
       "      <th>Smoking_status</th>\n",
       "      <th>Exercise_frequency</th>\n",
       "    </tr>\n",
       "  </thead>\n",
       "  <tbody>\n",
       "    <tr>\n",
       "      <th>0</th>\n",
       "      <td>1</td>\n",
       "      <td>65</td>\n",
       "      <td>Female</td>\n",
       "      <td>2021-03-06 1:00</td>\n",
       "      <td>2021-03-06 7:00</td>\n",
       "      <td>6.0</td>\n",
       "      <td>0.88</td>\n",
       "      <td>18</td>\n",
       "      <td>70</td>\n",
       "      <td>12</td>\n",
       "      <td>0.0</td>\n",
       "      <td>0.0</td>\n",
       "      <td>0.0</td>\n",
       "      <td>Yes</td>\n",
       "      <td>3.0</td>\n",
       "    </tr>\n",
       "    <tr>\n",
       "      <th>1</th>\n",
       "      <td>2</td>\n",
       "      <td>69</td>\n",
       "      <td>Male</td>\n",
       "      <td>2021-12-05 2:00</td>\n",
       "      <td>2021-12-05 9:00</td>\n",
       "      <td>7.0</td>\n",
       "      <td>0.66</td>\n",
       "      <td>19</td>\n",
       "      <td>28</td>\n",
       "      <td>53</td>\n",
       "      <td>3.0</td>\n",
       "      <td>0.0</td>\n",
       "      <td>3.0</td>\n",
       "      <td>Yes</td>\n",
       "      <td>3.0</td>\n",
       "    </tr>\n",
       "    <tr>\n",
       "      <th>2</th>\n",
       "      <td>3</td>\n",
       "      <td>40</td>\n",
       "      <td>Female</td>\n",
       "      <td>2021-05-25 21:30</td>\n",
       "      <td>2021-05-25 5:30</td>\n",
       "      <td>8.0</td>\n",
       "      <td>0.89</td>\n",
       "      <td>20</td>\n",
       "      <td>70</td>\n",
       "      <td>10</td>\n",
       "      <td>1.0</td>\n",
       "      <td>0.0</td>\n",
       "      <td>0.0</td>\n",
       "      <td>No</td>\n",
       "      <td>3.0</td>\n",
       "    </tr>\n",
       "    <tr>\n",
       "      <th>3</th>\n",
       "      <td>4</td>\n",
       "      <td>40</td>\n",
       "      <td>Female</td>\n",
       "      <td>2021-11-03 2:30</td>\n",
       "      <td>2021-11-03 8:30</td>\n",
       "      <td>6.0</td>\n",
       "      <td>0.51</td>\n",
       "      <td>23</td>\n",
       "      <td>25</td>\n",
       "      <td>52</td>\n",
       "      <td>3.0</td>\n",
       "      <td>50.0</td>\n",
       "      <td>5.0</td>\n",
       "      <td>Yes</td>\n",
       "      <td>1.0</td>\n",
       "    </tr>\n",
       "    <tr>\n",
       "      <th>4</th>\n",
       "      <td>5</td>\n",
       "      <td>57</td>\n",
       "      <td>Male</td>\n",
       "      <td>2021-03-13 1:00</td>\n",
       "      <td>2021-03-13 9:00</td>\n",
       "      <td>8.0</td>\n",
       "      <td>0.76</td>\n",
       "      <td>27</td>\n",
       "      <td>55</td>\n",
       "      <td>18</td>\n",
       "      <td>3.0</td>\n",
       "      <td>0.0</td>\n",
       "      <td>3.0</td>\n",
       "      <td>No</td>\n",
       "      <td>3.0</td>\n",
       "    </tr>\n",
       "  </tbody>\n",
       "</table>\n",
       "</div>"
      ],
      "text/plain": [
       "   ID  Age  Gender           Bedtime      Wakeup_time  Sleep_duration  \\\n",
       "0   1   65  Female   2021-03-06 1:00  2021-03-06 7:00             6.0   \n",
       "1   2   69    Male   2021-12-05 2:00  2021-12-05 9:00             7.0   \n",
       "2   3   40  Female  2021-05-25 21:30  2021-05-25 5:30             8.0   \n",
       "3   4   40  Female   2021-11-03 2:30  2021-11-03 8:30             6.0   \n",
       "4   5   57    Male   2021-03-13 1:00  2021-03-13 9:00             8.0   \n",
       "\n",
       "   Sleep_efficiency  REM_sleep_percentage  Deep_sleep_percentage  \\\n",
       "0              0.88                    18                     70   \n",
       "1              0.66                    19                     28   \n",
       "2              0.89                    20                     70   \n",
       "3              0.51                    23                     25   \n",
       "4              0.76                    27                     55   \n",
       "\n",
       "   Light_sleep_percentage  Awakenings  Caffeine_consumption  \\\n",
       "0                      12         0.0                   0.0   \n",
       "1                      53         3.0                   0.0   \n",
       "2                      10         1.0                   0.0   \n",
       "3                      52         3.0                  50.0   \n",
       "4                      18         3.0                   0.0   \n",
       "\n",
       "   Alcohol_consumption Smoking_status  Exercise_frequency  \n",
       "0                  0.0            Yes                 3.0  \n",
       "1                  3.0            Yes                 3.0  \n",
       "2                  0.0             No                 3.0  \n",
       "3                  5.0            Yes                 1.0  \n",
       "4                  3.0             No                 3.0  "
      ]
     },
     "execution_count": 9,
     "metadata": {},
     "output_type": "execute_result"
    }
   ],
   "source": [
    "# Rename columns for easier analysis\n",
    "\n",
    "df_filtered = df_filtered.rename(\n",
    "    columns={\n",
    "        \"Wakeup time\": \"Wakeup_time\",\n",
    "        \"Sleep duration\": \"Sleep_duration\",\n",
    "        \"Sleep efficiency\": \"Sleep_efficiency\",\n",
    "        \"REM sleep percentage\": \"REM_sleep_percentage\",\n",
    "        \"Deep sleep percentage\": \"Deep_sleep_percentage\",\n",
    "        \"Light sleep percentage\": \"Light_sleep_percentage\",\n",
    "        \"Exercise frequency\": \"Exercise_frequency\",\n",
    "        \"Alcohol consumption\": \"Alcohol_consumption\",\n",
    "        \"Caffeine consumption\": \"Caffeine_consumption\",\n",
    "           \"Smoking status\": \"Smoking_status\",\n",
    "    }\n",
    ")\n",
    "\n",
    "df_filtered.reset_index\n",
    "df_filtered.head()"
   ]
  },
  {
   "cell_type": "code",
   "execution_count": 10,
   "metadata": {},
   "outputs": [
    {
     "data": {
      "text/html": [
       "<div>\n",
       "<style scoped>\n",
       "    .dataframe tbody tr th:only-of-type {\n",
       "        vertical-align: middle;\n",
       "    }\n",
       "\n",
       "    .dataframe tbody tr th {\n",
       "        vertical-align: top;\n",
       "    }\n",
       "\n",
       "    .dataframe thead th {\n",
       "        text-align: right;\n",
       "    }\n",
       "</style>\n",
       "<table border=\"1\" class=\"dataframe\">\n",
       "  <thead>\n",
       "    <tr style=\"text-align: right;\">\n",
       "      <th></th>\n",
       "      <th>ID</th>\n",
       "      <th>Age</th>\n",
       "      <th>Gender</th>\n",
       "      <th>Bedtime</th>\n",
       "      <th>Wakeup_time</th>\n",
       "      <th>Sleep_duration</th>\n",
       "      <th>Sleep_efficiency</th>\n",
       "      <th>REM_sleep_percentage</th>\n",
       "      <th>Deep_sleep_percentage</th>\n",
       "      <th>Light_sleep_percentage</th>\n",
       "      <th>Awakenings</th>\n",
       "      <th>Caffeine_consumption</th>\n",
       "      <th>Alcohol_consumption</th>\n",
       "      <th>Smoking_status</th>\n",
       "      <th>Exercise_frequency</th>\n",
       "    </tr>\n",
       "  </thead>\n",
       "  <tbody>\n",
       "    <tr>\n",
       "      <th>0</th>\n",
       "      <td>1</td>\n",
       "      <td>65</td>\n",
       "      <td>Female</td>\n",
       "      <td>2021-03-06 01:00:00</td>\n",
       "      <td>2021-03-06 07:00:00</td>\n",
       "      <td>6.0</td>\n",
       "      <td>0.88</td>\n",
       "      <td>18</td>\n",
       "      <td>70</td>\n",
       "      <td>12</td>\n",
       "      <td>0.0</td>\n",
       "      <td>0.0</td>\n",
       "      <td>0.0</td>\n",
       "      <td>Yes</td>\n",
       "      <td>3.0</td>\n",
       "    </tr>\n",
       "    <tr>\n",
       "      <th>1</th>\n",
       "      <td>2</td>\n",
       "      <td>69</td>\n",
       "      <td>Male</td>\n",
       "      <td>2021-12-05 02:00:00</td>\n",
       "      <td>2021-12-05 09:00:00</td>\n",
       "      <td>7.0</td>\n",
       "      <td>0.66</td>\n",
       "      <td>19</td>\n",
       "      <td>28</td>\n",
       "      <td>53</td>\n",
       "      <td>3.0</td>\n",
       "      <td>0.0</td>\n",
       "      <td>3.0</td>\n",
       "      <td>Yes</td>\n",
       "      <td>3.0</td>\n",
       "    </tr>\n",
       "    <tr>\n",
       "      <th>2</th>\n",
       "      <td>3</td>\n",
       "      <td>40</td>\n",
       "      <td>Female</td>\n",
       "      <td>2021-05-25 21:30:00</td>\n",
       "      <td>2021-05-25 05:30:00</td>\n",
       "      <td>8.0</td>\n",
       "      <td>0.89</td>\n",
       "      <td>20</td>\n",
       "      <td>70</td>\n",
       "      <td>10</td>\n",
       "      <td>1.0</td>\n",
       "      <td>0.0</td>\n",
       "      <td>0.0</td>\n",
       "      <td>No</td>\n",
       "      <td>3.0</td>\n",
       "    </tr>\n",
       "    <tr>\n",
       "      <th>3</th>\n",
       "      <td>4</td>\n",
       "      <td>40</td>\n",
       "      <td>Female</td>\n",
       "      <td>2021-11-03 02:30:00</td>\n",
       "      <td>2021-11-03 08:30:00</td>\n",
       "      <td>6.0</td>\n",
       "      <td>0.51</td>\n",
       "      <td>23</td>\n",
       "      <td>25</td>\n",
       "      <td>52</td>\n",
       "      <td>3.0</td>\n",
       "      <td>50.0</td>\n",
       "      <td>5.0</td>\n",
       "      <td>Yes</td>\n",
       "      <td>1.0</td>\n",
       "    </tr>\n",
       "    <tr>\n",
       "      <th>4</th>\n",
       "      <td>5</td>\n",
       "      <td>57</td>\n",
       "      <td>Male</td>\n",
       "      <td>2021-03-13 01:00:00</td>\n",
       "      <td>2021-03-13 09:00:00</td>\n",
       "      <td>8.0</td>\n",
       "      <td>0.76</td>\n",
       "      <td>27</td>\n",
       "      <td>55</td>\n",
       "      <td>18</td>\n",
       "      <td>3.0</td>\n",
       "      <td>0.0</td>\n",
       "      <td>3.0</td>\n",
       "      <td>No</td>\n",
       "      <td>3.0</td>\n",
       "    </tr>\n",
       "  </tbody>\n",
       "</table>\n",
       "</div>"
      ],
      "text/plain": [
       "   ID  Age  Gender             Bedtime         Wakeup_time  Sleep_duration  \\\n",
       "0   1   65  Female 2021-03-06 01:00:00 2021-03-06 07:00:00             6.0   \n",
       "1   2   69    Male 2021-12-05 02:00:00 2021-12-05 09:00:00             7.0   \n",
       "2   3   40  Female 2021-05-25 21:30:00 2021-05-25 05:30:00             8.0   \n",
       "3   4   40  Female 2021-11-03 02:30:00 2021-11-03 08:30:00             6.0   \n",
       "4   5   57    Male 2021-03-13 01:00:00 2021-03-13 09:00:00             8.0   \n",
       "\n",
       "   Sleep_efficiency  REM_sleep_percentage  Deep_sleep_percentage  \\\n",
       "0              0.88                    18                     70   \n",
       "1              0.66                    19                     28   \n",
       "2              0.89                    20                     70   \n",
       "3              0.51                    23                     25   \n",
       "4              0.76                    27                     55   \n",
       "\n",
       "   Light_sleep_percentage  Awakenings  Caffeine_consumption  \\\n",
       "0                      12         0.0                   0.0   \n",
       "1                      53         3.0                   0.0   \n",
       "2                      10         1.0                   0.0   \n",
       "3                      52         3.0                  50.0   \n",
       "4                      18         3.0                   0.0   \n",
       "\n",
       "   Alcohol_consumption Smoking_status  Exercise_frequency  \n",
       "0                  0.0            Yes                 3.0  \n",
       "1                  3.0            Yes                 3.0  \n",
       "2                  0.0             No                 3.0  \n",
       "3                  5.0            Yes                 1.0  \n",
       "4                  3.0             No                 3.0  "
      ]
     },
     "execution_count": 10,
     "metadata": {},
     "output_type": "execute_result"
    }
   ],
   "source": [
    "# Convert date columns\n",
    "\n",
    "df_filtered[\"Bedtime\"] = pd.to_datetime(df_filtered[\"Bedtime\"])\n",
    "df_filtered[\"Wakeup_time\"] = pd.to_datetime(df_filtered[\"Wakeup_time\"])\n",
    "df_filtered.head()"
   ]
  },
  {
   "cell_type": "code",
   "execution_count": 11,
   "metadata": {},
   "outputs": [
    {
     "data": {
      "text/html": [
       "<div>\n",
       "<style scoped>\n",
       "    .dataframe tbody tr th:only-of-type {\n",
       "        vertical-align: middle;\n",
       "    }\n",
       "\n",
       "    .dataframe tbody tr th {\n",
       "        vertical-align: top;\n",
       "    }\n",
       "\n",
       "    .dataframe thead th {\n",
       "        text-align: right;\n",
       "    }\n",
       "</style>\n",
       "<table border=\"1\" class=\"dataframe\">\n",
       "  <thead>\n",
       "    <tr style=\"text-align: right;\">\n",
       "      <th></th>\n",
       "      <th>ID</th>\n",
       "      <th>Age</th>\n",
       "      <th>Gender</th>\n",
       "      <th>Bedtime</th>\n",
       "      <th>Wakeup_time</th>\n",
       "      <th>Sleep_duration</th>\n",
       "      <th>Sleep_efficiency</th>\n",
       "      <th>REM_sleep_percentage</th>\n",
       "      <th>Deep_sleep_percentage</th>\n",
       "      <th>Light_sleep_percentage</th>\n",
       "      <th>Awakenings</th>\n",
       "      <th>Caffeine_consumption</th>\n",
       "      <th>Alcohol_consumption</th>\n",
       "      <th>Smoking_status</th>\n",
       "      <th>Exercise_frequency</th>\n",
       "      <th>Bedtime_hour</th>\n",
       "      <th>Wakeup_time_hour</th>\n",
       "    </tr>\n",
       "  </thead>\n",
       "  <tbody>\n",
       "    <tr>\n",
       "      <th>0</th>\n",
       "      <td>1</td>\n",
       "      <td>65</td>\n",
       "      <td>Female</td>\n",
       "      <td>2021-03-06 01:00:00</td>\n",
       "      <td>2021-03-06 07:00:00</td>\n",
       "      <td>6.0</td>\n",
       "      <td>0.88</td>\n",
       "      <td>18</td>\n",
       "      <td>70</td>\n",
       "      <td>12</td>\n",
       "      <td>0.0</td>\n",
       "      <td>0.0</td>\n",
       "      <td>0.0</td>\n",
       "      <td>Yes</td>\n",
       "      <td>3.0</td>\n",
       "      <td>1</td>\n",
       "      <td>7</td>\n",
       "    </tr>\n",
       "    <tr>\n",
       "      <th>1</th>\n",
       "      <td>2</td>\n",
       "      <td>69</td>\n",
       "      <td>Male</td>\n",
       "      <td>2021-12-05 02:00:00</td>\n",
       "      <td>2021-12-05 09:00:00</td>\n",
       "      <td>7.0</td>\n",
       "      <td>0.66</td>\n",
       "      <td>19</td>\n",
       "      <td>28</td>\n",
       "      <td>53</td>\n",
       "      <td>3.0</td>\n",
       "      <td>0.0</td>\n",
       "      <td>3.0</td>\n",
       "      <td>Yes</td>\n",
       "      <td>3.0</td>\n",
       "      <td>2</td>\n",
       "      <td>9</td>\n",
       "    </tr>\n",
       "    <tr>\n",
       "      <th>2</th>\n",
       "      <td>3</td>\n",
       "      <td>40</td>\n",
       "      <td>Female</td>\n",
       "      <td>2021-05-25 21:30:00</td>\n",
       "      <td>2021-05-25 05:30:00</td>\n",
       "      <td>8.0</td>\n",
       "      <td>0.89</td>\n",
       "      <td>20</td>\n",
       "      <td>70</td>\n",
       "      <td>10</td>\n",
       "      <td>1.0</td>\n",
       "      <td>0.0</td>\n",
       "      <td>0.0</td>\n",
       "      <td>No</td>\n",
       "      <td>3.0</td>\n",
       "      <td>21</td>\n",
       "      <td>5</td>\n",
       "    </tr>\n",
       "    <tr>\n",
       "      <th>3</th>\n",
       "      <td>4</td>\n",
       "      <td>40</td>\n",
       "      <td>Female</td>\n",
       "      <td>2021-11-03 02:30:00</td>\n",
       "      <td>2021-11-03 08:30:00</td>\n",
       "      <td>6.0</td>\n",
       "      <td>0.51</td>\n",
       "      <td>23</td>\n",
       "      <td>25</td>\n",
       "      <td>52</td>\n",
       "      <td>3.0</td>\n",
       "      <td>50.0</td>\n",
       "      <td>5.0</td>\n",
       "      <td>Yes</td>\n",
       "      <td>1.0</td>\n",
       "      <td>2</td>\n",
       "      <td>8</td>\n",
       "    </tr>\n",
       "    <tr>\n",
       "      <th>4</th>\n",
       "      <td>5</td>\n",
       "      <td>57</td>\n",
       "      <td>Male</td>\n",
       "      <td>2021-03-13 01:00:00</td>\n",
       "      <td>2021-03-13 09:00:00</td>\n",
       "      <td>8.0</td>\n",
       "      <td>0.76</td>\n",
       "      <td>27</td>\n",
       "      <td>55</td>\n",
       "      <td>18</td>\n",
       "      <td>3.0</td>\n",
       "      <td>0.0</td>\n",
       "      <td>3.0</td>\n",
       "      <td>No</td>\n",
       "      <td>3.0</td>\n",
       "      <td>1</td>\n",
       "      <td>9</td>\n",
       "    </tr>\n",
       "  </tbody>\n",
       "</table>\n",
       "</div>"
      ],
      "text/plain": [
       "   ID  Age  Gender             Bedtime         Wakeup_time  Sleep_duration  \\\n",
       "0   1   65  Female 2021-03-06 01:00:00 2021-03-06 07:00:00             6.0   \n",
       "1   2   69    Male 2021-12-05 02:00:00 2021-12-05 09:00:00             7.0   \n",
       "2   3   40  Female 2021-05-25 21:30:00 2021-05-25 05:30:00             8.0   \n",
       "3   4   40  Female 2021-11-03 02:30:00 2021-11-03 08:30:00             6.0   \n",
       "4   5   57    Male 2021-03-13 01:00:00 2021-03-13 09:00:00             8.0   \n",
       "\n",
       "   Sleep_efficiency  REM_sleep_percentage  Deep_sleep_percentage  \\\n",
       "0              0.88                    18                     70   \n",
       "1              0.66                    19                     28   \n",
       "2              0.89                    20                     70   \n",
       "3              0.51                    23                     25   \n",
       "4              0.76                    27                     55   \n",
       "\n",
       "   Light_sleep_percentage  Awakenings  Caffeine_consumption  \\\n",
       "0                      12         0.0                   0.0   \n",
       "1                      53         3.0                   0.0   \n",
       "2                      10         1.0                   0.0   \n",
       "3                      52         3.0                  50.0   \n",
       "4                      18         3.0                   0.0   \n",
       "\n",
       "   Alcohol_consumption Smoking_status  Exercise_frequency  Bedtime_hour  \\\n",
       "0                  0.0            Yes                 3.0             1   \n",
       "1                  3.0            Yes                 3.0             2   \n",
       "2                  0.0             No                 3.0            21   \n",
       "3                  5.0            Yes                 1.0             2   \n",
       "4                  3.0             No                 3.0             1   \n",
       "\n",
       "   Wakeup_time_hour  \n",
       "0                 7  \n",
       "1                 9  \n",
       "2                 5  \n",
       "3                 8  \n",
       "4                 9  "
      ]
     },
     "execution_count": 11,
     "metadata": {},
     "output_type": "execute_result"
    }
   ],
   "source": [
    "# Extract the hour from the datetime columns\n",
    "\n",
    "df_filtered[\"Bedtime_hour\"] = df_filtered[\"Bedtime\"].dt.hour\n",
    "df_filtered[\"Wakeup_time_hour\"] = df_filtered[\"Wakeup_time\"].dt.hour\n",
    "df_filtered.head()"
   ]
  },
  {
   "cell_type": "code",
   "execution_count": 12,
   "metadata": {},
   "outputs": [
    {
     "data": {
      "text/html": [
       "<div>\n",
       "<style scoped>\n",
       "    .dataframe tbody tr th:only-of-type {\n",
       "        vertical-align: middle;\n",
       "    }\n",
       "\n",
       "    .dataframe tbody tr th {\n",
       "        vertical-align: top;\n",
       "    }\n",
       "\n",
       "    .dataframe thead th {\n",
       "        text-align: right;\n",
       "    }\n",
       "</style>\n",
       "<table border=\"1\" class=\"dataframe\">\n",
       "  <thead>\n",
       "    <tr style=\"text-align: right;\">\n",
       "      <th></th>\n",
       "      <th>ID</th>\n",
       "      <th>Age</th>\n",
       "      <th>Gender</th>\n",
       "      <th>Sleep_duration</th>\n",
       "      <th>Sleep_efficiency</th>\n",
       "      <th>REM_sleep_percentage</th>\n",
       "      <th>Deep_sleep_percentage</th>\n",
       "      <th>Light_sleep_percentage</th>\n",
       "      <th>Awakenings</th>\n",
       "      <th>Caffeine_consumption</th>\n",
       "      <th>Alcohol_consumption</th>\n",
       "      <th>Smoking_status</th>\n",
       "      <th>Exercise_frequency</th>\n",
       "      <th>Bedtime_hour</th>\n",
       "      <th>Wakeup_time_hour</th>\n",
       "    </tr>\n",
       "  </thead>\n",
       "  <tbody>\n",
       "    <tr>\n",
       "      <th>0</th>\n",
       "      <td>1</td>\n",
       "      <td>65</td>\n",
       "      <td>Female</td>\n",
       "      <td>6.0</td>\n",
       "      <td>0.88</td>\n",
       "      <td>18</td>\n",
       "      <td>70</td>\n",
       "      <td>12</td>\n",
       "      <td>0.0</td>\n",
       "      <td>0.0</td>\n",
       "      <td>0.0</td>\n",
       "      <td>Yes</td>\n",
       "      <td>3.0</td>\n",
       "      <td>1</td>\n",
       "      <td>7</td>\n",
       "    </tr>\n",
       "    <tr>\n",
       "      <th>1</th>\n",
       "      <td>2</td>\n",
       "      <td>69</td>\n",
       "      <td>Male</td>\n",
       "      <td>7.0</td>\n",
       "      <td>0.66</td>\n",
       "      <td>19</td>\n",
       "      <td>28</td>\n",
       "      <td>53</td>\n",
       "      <td>3.0</td>\n",
       "      <td>0.0</td>\n",
       "      <td>3.0</td>\n",
       "      <td>Yes</td>\n",
       "      <td>3.0</td>\n",
       "      <td>2</td>\n",
       "      <td>9</td>\n",
       "    </tr>\n",
       "    <tr>\n",
       "      <th>2</th>\n",
       "      <td>3</td>\n",
       "      <td>40</td>\n",
       "      <td>Female</td>\n",
       "      <td>8.0</td>\n",
       "      <td>0.89</td>\n",
       "      <td>20</td>\n",
       "      <td>70</td>\n",
       "      <td>10</td>\n",
       "      <td>1.0</td>\n",
       "      <td>0.0</td>\n",
       "      <td>0.0</td>\n",
       "      <td>No</td>\n",
       "      <td>3.0</td>\n",
       "      <td>21</td>\n",
       "      <td>5</td>\n",
       "    </tr>\n",
       "    <tr>\n",
       "      <th>3</th>\n",
       "      <td>4</td>\n",
       "      <td>40</td>\n",
       "      <td>Female</td>\n",
       "      <td>6.0</td>\n",
       "      <td>0.51</td>\n",
       "      <td>23</td>\n",
       "      <td>25</td>\n",
       "      <td>52</td>\n",
       "      <td>3.0</td>\n",
       "      <td>50.0</td>\n",
       "      <td>5.0</td>\n",
       "      <td>Yes</td>\n",
       "      <td>1.0</td>\n",
       "      <td>2</td>\n",
       "      <td>8</td>\n",
       "    </tr>\n",
       "    <tr>\n",
       "      <th>4</th>\n",
       "      <td>5</td>\n",
       "      <td>57</td>\n",
       "      <td>Male</td>\n",
       "      <td>8.0</td>\n",
       "      <td>0.76</td>\n",
       "      <td>27</td>\n",
       "      <td>55</td>\n",
       "      <td>18</td>\n",
       "      <td>3.0</td>\n",
       "      <td>0.0</td>\n",
       "      <td>3.0</td>\n",
       "      <td>No</td>\n",
       "      <td>3.0</td>\n",
       "      <td>1</td>\n",
       "      <td>9</td>\n",
       "    </tr>\n",
       "  </tbody>\n",
       "</table>\n",
       "</div>"
      ],
      "text/plain": [
       "   ID  Age  Gender  Sleep_duration  Sleep_efficiency  REM_sleep_percentage  \\\n",
       "0   1   65  Female             6.0              0.88                    18   \n",
       "1   2   69    Male             7.0              0.66                    19   \n",
       "2   3   40  Female             8.0              0.89                    20   \n",
       "3   4   40  Female             6.0              0.51                    23   \n",
       "4   5   57    Male             8.0              0.76                    27   \n",
       "\n",
       "   Deep_sleep_percentage  Light_sleep_percentage  Awakenings  \\\n",
       "0                     70                      12         0.0   \n",
       "1                     28                      53         3.0   \n",
       "2                     70                      10         1.0   \n",
       "3                     25                      52         3.0   \n",
       "4                     55                      18         3.0   \n",
       "\n",
       "   Caffeine_consumption  Alcohol_consumption Smoking_status  \\\n",
       "0                   0.0                  0.0            Yes   \n",
       "1                   0.0                  3.0            Yes   \n",
       "2                   0.0                  0.0             No   \n",
       "3                  50.0                  5.0            Yes   \n",
       "4                   0.0                  3.0             No   \n",
       "\n",
       "   Exercise_frequency  Bedtime_hour  Wakeup_time_hour  \n",
       "0                 3.0             1                 7  \n",
       "1                 3.0             2                 9  \n",
       "2                 3.0            21                 5  \n",
       "3                 1.0             2                 8  \n",
       "4                 3.0             1                 9  "
      ]
     },
     "execution_count": 12,
     "metadata": {},
     "output_type": "execute_result"
    }
   ],
   "source": [
    "# Keep relevant columns\n",
    "\n",
    "columns_to_drop = [\"Bedtime\", \"Wakeup_time\"]\n",
    "df_filtered = df_filtered.drop(columns_to_drop, axis=1)  # Drop specified columns\n",
    "df_filtered.head()"
   ]
  },
  {
   "cell_type": "code",
   "execution_count": 13,
   "metadata": {},
   "outputs": [
    {
     "data": {
      "image/png": "[encoded data removed]",
      "text/plain": [
       "<Figure size 800x500 with 1 Axes>"
      ]
     },
     "metadata": {},
     "output_type": "display_data"
    }
   ],
   "source": [
    "# Plot the Dependent Variable\n",
    "\n",
    "plt.figure(figsize=(8, 5))\n",
    "plt.hist(df_filtered[\"Sleep_efficiency\"], bins=10, edgecolor=\"black\")\n",
    "plt.xlabel(\"Sleep Efficiency\")\n",
    "plt.ylabel(\"Frequency\")\n",
    "plt.title(\"Histogram of Sleep Efficiency\")\n",
    "plt.grid(True)"
   ]
  },
  {
   "cell_type": "markdown",
   "metadata": {},
   "source": [
    "##### Initial Insights"
   ]
  },
  {
   "cell_type": "markdown",
   "metadata": {},
   "source": [
    "The distribution of the dependent variable, Sleep Efficiency appears to be left skewed; therefore the normality assumption may not be met."
   ]
  },
  {
   "cell_type": "markdown",
   "metadata": {},
   "source": [
    "#### Check Statistical Test Conditions/Assumptions (If Applicable)"
   ]
  },
  {
   "cell_type": "code",
   "execution_count": 14,
   "metadata": {},
   "outputs": [],
   "source": [
    "## Boxplots for Averages"
   ]
  },
  {
   "cell_type": "markdown",
   "metadata": {},
   "source": []
  },
  {
   "cell_type": "code",
   "execution_count": 15,
   "metadata": {},
   "outputs": [],
   "source": [
    "## Histograms for Averages"
   ]
  },
  {
   "cell_type": "markdown",
   "metadata": {},
   "source": []
  },
  {
   "cell_type": "code",
   "execution_count": 16,
   "metadata": {},
   "outputs": [],
   "source": [
    "## Normal Probability Plots"
   ]
  },
  {
   "cell_type": "markdown",
   "metadata": {},
   "source": []
  },
  {
   "cell_type": "markdown",
   "metadata": {},
   "source": [
    "## PA(C)E - Construct Phase of the PACE Framework\n",
    "### Part 4 - Modeling/Inference "
   ]
  },
  {
   "cell_type": "markdown",
   "metadata": {},
   "source": [
    "H0 (nothing going on): There is no correlation between \"\" and sleep efficiency.\n",
    "\n",
    "HA (something going on): There is a correlation between \"\" physical activity\"\" and sleep efficiency."
   ]
  },
  {
   "cell_type": "markdown",
   "metadata": {},
   "source": [
    "#### Create a Hold-Out Sample (If Applicable)"
   ]
  },
  {
   "cell_type": "code",
   "execution_count": 17,
   "metadata": {},
   "outputs": [],
   "source": [
    "# Subset X and y variables\n",
    "df_filtered_X = df_filtered[\n",
    "    [\n",
    "        \"Age\",\n",
    "        \"Gender\",\n",
    "        \"Sleep_duration\",\n",
    "        \"REM_sleep_percentage\",\n",
    "        \"Deep_sleep_percentage\",\n",
    "        \"Light_sleep_percentage\",\n",
    "        \"Awakenings\",\n",
    "        \"Caffeine_consumption\",\n",
    "        \"Alcohol_consumption\",\n",
    "        \"Smoking_status\",\n",
    "        \"Exercise_frequency\",\n",
    "        \"Bedtime_hour\",\n",
    "        \"Wakeup_time_hour\",\n",
    "    ]\n",
    "]\n",
    "df_filtered_y = df_filtered[[\"Sleep_efficiency\"]]\n",
    "\n",
    "# Import train-test-split function from sci-kit learn\n",
    "from sklearn.model_selection import train_test_split\n",
    "\n",
    "# Create training data sets and holdout (testing) data sets\n",
    "X_train, X_test, y_train, y_test = train_test_split(\n",
    "    df_filtered_X, df_filtered_y, test_size=0.3, random_state=42\n",
    ")"
   ]
  },
  {
   "cell_type": "markdown",
   "metadata": {},
   "source": [
    "#### Build and Fit The Model (If Applicable)"
   ]
  },
  {
   "cell_type": "code",
   "execution_count": 18,
   "metadata": {},
   "outputs": [
    {
     "data": {
      "text/html": [
       "<table class=\"simpletable\">\n",
       "<caption>OLS Regression Results</caption>\n",
       "<tr>\n",
       "  <th>Dep. Variable:</th>    <td>Sleep_efficiency</td> <th>  R-squared:         </th> <td>   0.802</td>\n",
       "</tr>\n",
       "<tr>\n",
       "  <th>Model:</th>                   <td>OLS</td>       <th>  Adj. R-squared:    </th> <td>   0.793</td>\n",
       "</tr>\n",
       "<tr>\n",
       "  <th>Method:</th>             <td>Least Squares</td>  <th>  F-statistic:       </th> <td>   87.12</td>\n",
       "</tr>\n",
       "<tr>\n",
       "  <th>Date:</th>             <td>Sat, 20 Jan 2024</td> <th>  Prob (F-statistic):</th> <td>1.99e-83</td>\n",
       "</tr>\n",
       "<tr>\n",
       "  <th>Time:</th>                 <td>19:11:31</td>     <th>  Log-Likelihood:    </th> <td>  380.63</td>\n",
       "</tr>\n",
       "<tr>\n",
       "  <th>No. Observations:</th>      <td>   271</td>      <th>  AIC:               </th> <td>  -735.3</td>\n",
       "</tr>\n",
       "<tr>\n",
       "  <th>Df Residuals:</th>          <td>   258</td>      <th>  BIC:               </th> <td>  -688.4</td>\n",
       "</tr>\n",
       "<tr>\n",
       "  <th>Df Model:</th>              <td>    12</td>      <th>                     </th>     <td> </td>   \n",
       "</tr>\n",
       "<tr>\n",
       "  <th>Covariance Type:</th>      <td>nonrobust</td>    <th>                     </th>     <td> </td>   \n",
       "</tr>\n",
       "</table>\n",
       "<table class=\"simpletable\">\n",
       "<tr>\n",
       "              <td></td>                <th>coef</th>     <th>std err</th>      <th>t</th>      <th>P>|t|</th>  <th>[0.025</th>    <th>0.975]</th>  \n",
       "</tr>\n",
       "<tr>\n",
       "  <th>Intercept</th>                <td>    0.0002</td> <td> 1.19e-05</td> <td>   18.792</td> <td> 0.000</td> <td>    0.000</td> <td>    0.000</td>\n",
       "</tr>\n",
       "<tr>\n",
       "  <th>C(Gender)[T.Male]</th>        <td>    0.0070</td> <td>    0.008</td> <td>    0.845</td> <td> 0.399</td> <td>   -0.009</td> <td>    0.023</td>\n",
       "</tr>\n",
       "<tr>\n",
       "  <th>C(Smoking_status)[T.Yes]</th> <td>   -0.0516</td> <td>    0.009</td> <td>   -5.979</td> <td> 0.000</td> <td>   -0.069</td> <td>   -0.035</td>\n",
       "</tr>\n",
       "<tr>\n",
       "  <th>Age</th>                      <td>    0.0011</td> <td>    0.000</td> <td>    3.716</td> <td> 0.000</td> <td>    0.001</td> <td>    0.002</td>\n",
       "</tr>\n",
       "<tr>\n",
       "  <th>Sleep_duration</th>           <td>    0.0107</td> <td>    0.006</td> <td>    1.733</td> <td> 0.084</td> <td>   -0.001</td> <td>    0.023</td>\n",
       "</tr>\n",
       "<tr>\n",
       "  <th>REM_sleep_percentage</th>     <td>    0.0102</td> <td>    0.001</td> <td>   10.776</td> <td> 0.000</td> <td>    0.008</td> <td>    0.012</td>\n",
       "</tr>\n",
       "<tr>\n",
       "  <th>Deep_sleep_percentage</th>    <td>    0.0088</td> <td>    0.000</td> <td>   19.589</td> <td> 0.000</td> <td>    0.008</td> <td>    0.010</td>\n",
       "</tr>\n",
       "<tr>\n",
       "  <th>Light_sleep_percentage</th>   <td>    0.0035</td> <td>    0.001</td> <td>    6.928</td> <td> 0.000</td> <td>    0.002</td> <td>    0.004</td>\n",
       "</tr>\n",
       "<tr>\n",
       "  <th>Awakenings</th>               <td>   -0.0326</td> <td>    0.003</td> <td>  -10.824</td> <td> 0.000</td> <td>   -0.039</td> <td>   -0.027</td>\n",
       "</tr>\n",
       "<tr>\n",
       "  <th>Caffeine_consumption</th>     <td>    0.0003</td> <td>    0.000</td> <td>    1.906</td> <td> 0.058</td> <td>-8.69e-06</td> <td>    0.001</td>\n",
       "</tr>\n",
       "<tr>\n",
       "  <th>Alcohol_consumption</th>      <td>   -0.0066</td> <td>    0.003</td> <td>   -2.504</td> <td> 0.013</td> <td>   -0.012</td> <td>   -0.001</td>\n",
       "</tr>\n",
       "<tr>\n",
       "  <th>Exercise_frequency</th>       <td>    0.0075</td> <td>    0.003</td> <td>    2.497</td> <td> 0.013</td> <td>    0.002</td> <td>    0.013</td>\n",
       "</tr>\n",
       "<tr>\n",
       "  <th>Bedtime_hour</th>             <td>   -0.0009</td> <td>    0.001</td> <td>   -1.269</td> <td> 0.206</td> <td>   -0.002</td> <td>    0.000</td>\n",
       "</tr>\n",
       "<tr>\n",
       "  <th>Wakeup_time_hour</th>         <td>   -0.0068</td> <td>    0.004</td> <td>   -1.602</td> <td> 0.110</td> <td>   -0.015</td> <td>    0.002</td>\n",
       "</tr>\n",
       "</table>\n",
       "<table class=\"simpletable\">\n",
       "<tr>\n",
       "  <th>Omnibus:</th>       <td> 4.448</td> <th>  Durbin-Watson:     </th> <td>   2.030</td>\n",
       "</tr>\n",
       "<tr>\n",
       "  <th>Prob(Omnibus):</th> <td> 0.108</td> <th>  Jarque-Bera (JB):  </th> <td>   4.543</td>\n",
       "</tr>\n",
       "<tr>\n",
       "  <th>Skew:</th>          <td>-0.306</td> <th>  Prob(JB):          </th> <td>   0.103</td>\n",
       "</tr>\n",
       "<tr>\n",
       "  <th>Kurtosis:</th>      <td> 2.836</td> <th>  Cond. No.          </th> <td>3.70e+17</td>\n",
       "</tr>\n",
       "</table><br/><br/>Notes:<br/>[1] Standard Errors assume that the covariance matrix of the errors is correctly specified.<br/>[2] The smallest eigenvalue is 1.29e-29. This might indicate that there are<br/>strong multicollinearity problems or that the design matrix is singular."
      ],
      "text/latex": [
       "\\begin{center}\n",
       "\\begin{tabular}{lclc}\n",
       "\\toprule\n",
       "\\textbf{Dep. Variable:}            & Sleep\\_efficiency & \\textbf{  R-squared:         } &     0.802   \\\\\n",
       "\\textbf{Model:}                    &        OLS        & \\textbf{  Adj. R-squared:    } &     0.793   \\\\\n",
       "\\textbf{Method:}                   &   Least Squares   & \\textbf{  F-statistic:       } &     87.12   \\\\\n",
       "\\textbf{Date:}                     &  Sat, 20 Jan 2024 & \\textbf{  Prob (F-statistic):} &  1.99e-83   \\\\\n",
       "\\textbf{Time:}                     &      19:11:31     & \\textbf{  Log-Likelihood:    } &    380.63   \\\\\n",
       "\\textbf{No. Observations:}         &          271      & \\textbf{  AIC:               } &    -735.3   \\\\\n",
       "\\textbf{Df Residuals:}             &          258      & \\textbf{  BIC:               } &    -688.4   \\\\\n",
       "\\textbf{Df Model:}                 &           12      & \\textbf{                     } &             \\\\\n",
       "\\textbf{Covariance Type:}          &     nonrobust     & \\textbf{                     } &             \\\\\n",
       "\\bottomrule\n",
       "\\end{tabular}\n",
       "\\begin{tabular}{lcccccc}\n",
       "                                   & \\textbf{coef} & \\textbf{std err} & \\textbf{t} & \\textbf{P$> |$t$|$} & \\textbf{[0.025} & \\textbf{0.975]}  \\\\\n",
       "\\midrule\n",
       "\\textbf{Intercept}                 &       0.0002  &     1.19e-05     &    18.792  &         0.000        &        0.000    &        0.000     \\\\\n",
       "\\textbf{C(Gender)[T.Male]}         &       0.0070  &        0.008     &     0.845  &         0.399        &       -0.009    &        0.023     \\\\\n",
       "\\textbf{C(Smoking\\_status)[T.Yes]} &      -0.0516  &        0.009     &    -5.979  &         0.000        &       -0.069    &       -0.035     \\\\\n",
       "\\textbf{Age}                       &       0.0011  &        0.000     &     3.716  &         0.000        &        0.001    &        0.002     \\\\\n",
       "\\textbf{Sleep\\_duration}           &       0.0107  &        0.006     &     1.733  &         0.084        &       -0.001    &        0.023     \\\\\n",
       "\\textbf{REM\\_sleep\\_percentage}    &       0.0102  &        0.001     &    10.776  &         0.000        &        0.008    &        0.012     \\\\\n",
       "\\textbf{Deep\\_sleep\\_percentage}   &       0.0088  &        0.000     &    19.589  &         0.000        &        0.008    &        0.010     \\\\\n",
       "\\textbf{Light\\_sleep\\_percentage}  &       0.0035  &        0.001     &     6.928  &         0.000        &        0.002    &        0.004     \\\\\n",
       "\\textbf{Awakenings}                &      -0.0326  &        0.003     &   -10.824  &         0.000        &       -0.039    &       -0.027     \\\\\n",
       "\\textbf{Caffeine\\_consumption}     &       0.0003  &        0.000     &     1.906  &         0.058        &    -8.69e-06    &        0.001     \\\\\n",
       "\\textbf{Alcohol\\_consumption}      &      -0.0066  &        0.003     &    -2.504  &         0.013        &       -0.012    &       -0.001     \\\\\n",
       "\\textbf{Exercise\\_frequency}       &       0.0075  &        0.003     &     2.497  &         0.013        &        0.002    &        0.013     \\\\\n",
       "\\textbf{Bedtime\\_hour}             &      -0.0009  &        0.001     &    -1.269  &         0.206        &       -0.002    &        0.000     \\\\\n",
       "\\textbf{Wakeup\\_time\\_hour}        &      -0.0068  &        0.004     &    -1.602  &         0.110        &       -0.015    &        0.002     \\\\\n",
       "\\bottomrule\n",
       "\\end{tabular}\n",
       "\\begin{tabular}{lclc}\n",
       "\\textbf{Omnibus:}       &  4.448 & \\textbf{  Durbin-Watson:     } &    2.030  \\\\\n",
       "\\textbf{Prob(Omnibus):} &  0.108 & \\textbf{  Jarque-Bera (JB):  } &    4.543  \\\\\n",
       "\\textbf{Skew:}          & -0.306 & \\textbf{  Prob(JB):          } &    0.103  \\\\\n",
       "\\textbf{Kurtosis:}      &  2.836 & \\textbf{  Cond. No.          } & 3.70e+17  \\\\\n",
       "\\bottomrule\n",
       "\\end{tabular}\n",
       "%\\caption{OLS Regression Results}\n",
       "\\end{center}\n",
       "\n",
       "Notes: \\newline\n",
       " [1] Standard Errors assume that the covariance matrix of the errors is correctly specified. \\newline\n",
       " [2] The smallest eigenvalue is 1.29e-29. This might indicate that there are \\newline\n",
       " strong multicollinearity problems or that the design matrix is singular."
      ],
      "text/plain": [
       "<class 'statsmodels.iolib.summary.Summary'>\n",
       "\"\"\"\n",
       "                            OLS Regression Results                            \n",
       "==============================================================================\n",
       "Dep. Variable:       Sleep_efficiency   R-squared:                       0.802\n",
       "Model:                            OLS   Adj. R-squared:                  0.793\n",
       "Method:                 Least Squares   F-statistic:                     87.12\n",
       "Date:                Sat, 20 Jan 2024   Prob (F-statistic):           1.99e-83\n",
       "Time:                        19:11:31   Log-Likelihood:                 380.63\n",
       "No. Observations:                 271   AIC:                            -735.3\n",
       "Df Residuals:                     258   BIC:                            -688.4\n",
       "Df Model:                          12                                         \n",
       "Covariance Type:            nonrobust                                         \n",
       "============================================================================================\n",
       "                               coef    std err          t      P>|t|      [0.025      0.975]\n",
       "--------------------------------------------------------------------------------------------\n",
       "Intercept                    0.0002   1.19e-05     18.792      0.000       0.000       0.000\n",
       "C(Gender)[T.Male]            0.0070      0.008      0.845      0.399      -0.009       0.023\n",
       "C(Smoking_status)[T.Yes]    -0.0516      0.009     -5.979      0.000      -0.069      -0.035\n",
       "Age                          0.0011      0.000      3.716      0.000       0.001       0.002\n",
       "Sleep_duration               0.0107      0.006      1.733      0.084      -0.001       0.023\n",
       "REM_sleep_percentage         0.0102      0.001     10.776      0.000       0.008       0.012\n",
       "Deep_sleep_percentage        0.0088      0.000     19.589      0.000       0.008       0.010\n",
       "Light_sleep_percentage       0.0035      0.001      6.928      0.000       0.002       0.004\n",
       "Awakenings                  -0.0326      0.003    -10.824      0.000      -0.039      -0.027\n",
       "Caffeine_consumption         0.0003      0.000      1.906      0.058   -8.69e-06       0.001\n",
       "Alcohol_consumption         -0.0066      0.003     -2.504      0.013      -0.012      -0.001\n",
       "Exercise_frequency           0.0075      0.003      2.497      0.013       0.002       0.013\n",
       "Bedtime_hour                -0.0009      0.001     -1.269      0.206      -0.002       0.000\n",
       "Wakeup_time_hour            -0.0068      0.004     -1.602      0.110      -0.015       0.002\n",
       "==============================================================================\n",
       "Omnibus:                        4.448   Durbin-Watson:                   2.030\n",
       "Prob(Omnibus):                  0.108   Jarque-Bera (JB):                4.543\n",
       "Skew:                          -0.306   Prob(JB):                        0.103\n",
       "Kurtosis:                       2.836   Cond. No.                     3.70e+17\n",
       "==============================================================================\n",
       "\n",
       "Notes:\n",
       "[1] Standard Errors assume that the covariance matrix of the errors is correctly specified.\n",
       "[2] The smallest eigenvalue is 1.29e-29. This might indicate that there are\n",
       "strong multicollinearity problems or that the design matrix is singular.\n",
       "\"\"\""
      ]
     },
     "execution_count": 18,
     "metadata": {},
     "output_type": "execute_result"
    }
   ],
   "source": [
    "# Define the OLS formula.\n",
    "ols_data = pd.concat([X_train, y_train], axis=1)\n",
    "\n",
    "# Create an OLS model.\n",
    "ols_formula = \"Sleep_efficiency ~ Age + C(Gender) + Sleep_duration + REM_sleep_percentage + Deep_sleep_percentage + Light_sleep_percentage + Awakenings + Caffeine_consumption + Alcohol_consumption + C(Smoking_status) + Exercise_frequency + Bedtime_hour + Wakeup_time_hour\"\n",
    "\n",
    "# Fit the model.\n",
    "OLS = ols(formula=ols_formula, data=ols_data)\n",
    "\n",
    "# Save the results summary.\n",
    "model = OLS.fit()\n",
    "\n",
    "# Display the model results.\n",
    "model.summary()"
   ]
  },
  {
   "cell_type": "markdown",
   "metadata": {},
   "source": [
    "#### Run Statistical Tests (If Applicable)"
   ]
  },
  {
   "cell_type": "code",
   "execution_count": null,
   "metadata": {},
   "outputs": [],
   "source": []
  },
  {
   "cell_type": "markdown",
   "metadata": {},
   "source": []
  },
  {
   "cell_type": "markdown",
   "metadata": {},
   "source": [
    "#### Check Model Conditions/Assumptions Post Model Construction (If Applicable)"
   ]
  },
  {
   "cell_type": "markdown",
   "metadata": {},
   "source": [
    "##### Linearity"
   ]
  },
  {
   "cell_type": "code",
   "execution_count": 19,
   "metadata": {},
   "outputs": [
    {
     "data": {
      "image/png": "[encoded data removed]",
      "text/plain": [
       "<Figure size 640x480 with 1 Axes>"
      ]
     },
     "metadata": {},
     "output_type": "display_data"
    }
   ],
   "source": [
    "import seaborn as sns\n",
    "import matplotlib.pyplot as plt\n",
    "\n",
    "# Create the scatter plot with regression line\n",
    "sns.regplot(x=\"Exercise_frequency\", y=\"Sleep_efficiency\", data=ols_data)\n",
    "\n",
    "# Access the scatter plot object and set outlines\n",
    "plt.gca().collections[0].set_edgecolor(\"black\")  # Set outline color to black\n",
    "plt.gca().collections[0].set_linewidth(1)  # Adjust outline width\n",
    "\n",
    "# Optional: Add labels and title for clarity\n",
    "plt.xlabel(\"Exercise Frequency\")\n",
    "plt.ylabel(\"Sleep Efficiency\")\n",
    "plt.title(\"Relationship Between Exercise Frequency and Sleep Efficiency\")\n",
    "\n",
    "plt.show()"
   ]
  },
  {
   "cell_type": "markdown",
   "metadata": {},
   "source": [
    "There is considerable scatter around the regression line, meaning many data points deviate from the predicted values generated by the linear model. This suggests that exercise frequency alone cannot fully explain the variations in sleep efficiency.\n",
    "\n",
    "The R-squared value of 0.069 is quite low, indicating that only a small proportion of the variance in sleep efficiency is explained by the linear model based on exercise frequency. This implies a weak overall relationship.\n",
    "\n",
    "There might be non-linear patterns present in the data, especially towards the lower and upper ends of the exercise frequency range. The scatter plot hints at potential curvature or deviation from a straight line in these regions."
   ]
  },
  {
   "cell_type": "markdown",
   "metadata": {},
   "source": [
    "##### Independent Observations"
   ]
  },
  {
   "cell_type": "markdown",
   "metadata": {},
   "source": [
    "Each observation (row) is independent of one another as each represents a different individual, therefore this condition is not violated."
   ]
  },
  {
   "cell_type": "markdown",
   "metadata": {},
   "source": [
    "##### Normality"
   ]
  },
  {
   "cell_type": "code",
   "execution_count": 20,
   "metadata": {},
   "outputs": [
    {
     "data": {
      "image/png": "[encoded data removed]",
      "text/plain": [
       "<Figure size 800x400 with 2 Axes>"
      ]
     },
     "metadata": {},
     "output_type": "display_data"
    }
   ],
   "source": [
    "# Calculate the residuals.\n",
    "\n",
    "# Create a histogram with the residuals .\n",
    "residuals = model.resid\n",
    "fig, axes = plt.subplots(1, 2, figsize=(8, 4))\n",
    "sns.histplot(residuals, ax=axes[0])\n",
    "axes[0].set_xlabel(\"Residual Value\")\n",
    "axes[0].set_title(\"Histogram of Residuals\")\n",
    "\n",
    "# Create a Q-Q plot of the residuals.\n",
    "sm.qqplot(model.resid, line=\"s\", ax=axes[1])\n",
    "axes[1].set_title(\"Normal Q-Q Plot\")\n",
    "plt.tight_layout()"
   ]
  },
  {
   "cell_type": "markdown",
   "metadata": {},
   "source": [
    "These plots suggest that the residuals in this linear regression model are approximately normally distributed."
   ]
  },
  {
   "cell_type": "markdown",
   "metadata": {},
   "source": [
    "##### Homoscedasticity"
   ]
  },
  {
   "cell_type": "code",
   "execution_count": 21,
   "metadata": {},
   "outputs": [
    {
     "data": {
      "text/plain": [
       "<matplotlib.lines.Line2D at 0x1655fffdb50>"
      ]
     },
     "execution_count": 21,
     "metadata": {},
     "output_type": "execute_result"
    },
    {
     "data": {
      "image/png": "[encoded data removed]",
      "text/plain": [
       "<Figure size 640x480 with 1 Axes>"
      ]
     },
     "metadata": {},
     "output_type": "display_data"
    }
   ],
   "source": [
    "# Create a scatterplot with the fitted values from the model and the residuals.\n",
    "fig = sns.scatterplot(x=model.fittedvalues, y=model.resid)\n",
    "fig.set_xlabel(\"Fitted Values\")\n",
    "fig.set_ylabel(\"Residuals\")\n",
    "\n",
    "# Set the title.\n",
    "fig.set_title(\"Fitted Values vs Residuals\")\n",
    "\n",
    "# Add a line at y = 0 to visualize the variance of residuals above and below 0.\n",
    "fig.axhline(0)"
   ]
  },
  {
   "cell_type": "markdown",
   "metadata": {},
   "source": [
    "This plot suggests that the errors in the linear regression model are approximately normally distributed."
   ]
  },
  {
   "cell_type": "markdown",
   "metadata": {},
   "source": [
    "##### No Multicollinearity (If Applicable)"
   ]
  },
  {
   "cell_type": "code",
   "execution_count": 22,
   "metadata": {},
   "outputs": [
    {
     "name": "stdout",
     "output_type": "stream",
     "text": [
      "[('Age', 1.0915494035983657), ('Sleep_duration', 2.0208841335558865), ('REM_sleep_percentage', 33.948339386419896), ('Deep_sleep_percentage', 44.548230172803166), ('Light_sleep_percentage', 15.712297590501757), ('Awakenings', 1.2043805641957008), ('Caffeine_consumption', 1.088336093057496), ('Alcohol_consumption', 1.229391109024419), ('Exercise_frequency', 1.3072783948842732), ('Bedtime_hour', 3.813571794693203), ('Wakeup_time_hour', 5.0632440156513425)]\n"
     ]
    }
   ],
   "source": [
    "# Test multicollinearity of predictor variables with Variance Inflation Factor (VIF)\n",
    "\n",
    "from statsmodels.stats.outliers_influence import variance_inflation_factor\n",
    "\n",
    "X = df_filtered[\n",
    "    [\n",
    "        \"Age\",\n",
    "        \"Sleep_duration\",\n",
    "        \"REM_sleep_percentage\",\n",
    "        \"Deep_sleep_percentage\",\n",
    "        \"Light_sleep_percentage\",\n",
    "        \"Awakenings\",\n",
    "        \"Caffeine_consumption\",\n",
    "        \"Alcohol_consumption\",\n",
    "        \"Exercise_frequency\",\n",
    "        \"Bedtime_hour\",\n",
    "        \"Wakeup_time_hour\",\n",
    "    ]\n",
    "]\n",
    "\n",
    "vif = [variance_inflation_factor(X.values, i) for i in range(X.shape[1])]\n",
    "vif = zip(X, vif)\n",
    "print(list(vif))"
   ]
  },
  {
   "cell_type": "markdown",
   "metadata": {},
   "source": [
    "Featres with an VIF > 5 may have multicollinearity, which means they are highly correlated with each other and can inflate the standard errors of the regression coefficients. This can make it difficult to interpret the results of the model and can also lead to unstable coefficient estimates.\n",
    "\n",
    "Consideration should be given to removing these features from the model or finding ways to reduce the multicollinearity between them."
   ]
  },
  {
   "cell_type": "markdown",
   "metadata": {},
   "source": [
    "### Part 5 - Prediction/Conclusion"
   ]
  },
  {
   "cell_type": "code",
   "execution_count": 23,
   "metadata": {},
   "outputs": [
    {
     "ename": "SyntaxError",
     "evalue": "invalid syntax (3167069918.py, line 1)",
     "output_type": "error",
     "traceback": [
      "\u001b[1;36m  Cell \u001b[1;32mIn[23], line 1\u001b[1;36m\u001b[0m\n\u001b[1;33m    model.summary()s\u001b[0m\n\u001b[1;37m                   ^\u001b[0m\n\u001b[1;31mSyntaxError\u001b[0m\u001b[1;31m:\u001b[0m invalid syntax\n"
     ]
    }
   ],
   "source": [
    "model.summary()s"
   ]
  },
  {
   "cell_type": "markdown",
   "metadata": {},
   "source": []
  },
  {
   "cell_type": "markdown",
   "metadata": {},
   "source": [
    "## PAC(E)- Execute Phase of the PACE Framework\n",
    "### What Story does the Data Tell?"
   ]
  },
  {
   "cell_type": "markdown",
   "metadata": {},
   "source": []
  }
 ],
 "metadata": {
  "kernelspec": {
   "display_name": "Python 3",
   "language": "python",
   "name": "python3"
  },
  "language_info": {
   "codemirror_mode": {
    "name": "ipython",
    "version": 3
   },
   "file_extension": ".py",
   "mimetype": "text/x-python",
   "name": "python",
   "nbconvert_exporter": "python",
   "pygments_lexer": "ipython3",
   "version": "3.11.7"
  }
 },
 "nbformat": 4,
 "nbformat_minor": 2
}
